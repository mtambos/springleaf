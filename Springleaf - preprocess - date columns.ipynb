{
 "cells": [
  {
   "cell_type": "markdown",
   "metadata": {},
   "source": [
    "## Import useful stuff and define ancillary functions"
   ]
  },
  {
   "cell_type": "code",
   "execution_count": 23,
   "metadata": {
    "collapsed": false,
    "scrolled": false
   },
   "outputs": [
    {
     "name": "stdout",
     "output_type": "stream",
     "text": [
      "Populating the interactive namespace from numpy and matplotlib\n",
      "The autoreload extension is already loaded. To reload it, use:\n",
      "  %reload_ext autoreload\n"
     ]
    },
    {
     "name": "stderr",
     "output_type": "stream",
     "text": [
      "WARNING: pylab import has clobbered these variables: ['datetime']\n",
      "`%matplotlib` prevents importing * from pylab and numpy\n"
     ]
    }
   ],
   "source": [
    "%pylab inline\n",
    "%load_ext autoreload\n",
    "%autoreload 2\n",
    "\n",
    "from __future__ import division\n",
    "\n",
    "from collections import defaultdict, namedtuple\n",
    "import cPickle as pickle\n",
    "from datetime import datetime, timedelta\n",
    "import dateutil\n",
    "from functools import partial\n",
    "import inspect\n",
    "import json\n",
    "import os\n",
    "import re\n",
    "import sys\n",
    "\n",
    "import numpy as np\n",
    "import pandas as pd\n"
   ]
  },
  {
   "cell_type": "markdown",
   "metadata": {},
   "source": [
    "# Load train data\n",
    "Using pandas' read_csv with all the defaults"
   ]
  },
  {
   "cell_type": "code",
   "execution_count": 2,
   "metadata": {
    "collapsed": false
   },
   "outputs": [
    {
     "name": "stderr",
     "output_type": "stream",
     "text": [
      "/home/mtambos/anaconda/lib/python2.7/site-packages/pandas/io/parsers.py:1170: DtypeWarning: Columns (8,9,10,11,12,23,136,172,190,193,194,196,200,203) have mixed types. Specify dtype option on import or set low_memory=False.\n",
      "  data = self._reader.read(nrows)\n"
     ]
    }
   ],
   "source": [
    "if os.name == 'nt':\n",
    "    TRAIN_PATH = r'D:\\train.csv'\n",
    "    PTRAIN_PATH = r'D:\\train_preprocessed_float_string_date.csv'\n",
    "    TEST_PATH = r'D:\\test.csv'\n",
    "    GOOGNEWS_PATH = r'D:\\GoogleNews-vectors-negative300.bin.gz'\n",
    "    VOCAB_PATH = r'D:\\big.txt'\n",
    "else:\n",
    "    TRAIN_PATH = r'/media/mtambos/speedy/train.csv'\n",
    "    PTRAIN_PATH = r'/media/mtambos/speedy/train_preprocessed_float_string_date.csv'\n",
    "    TEST_PATH = r'/media/mtambos/speedy/test.csv'\n",
    "    GOOGNEWS_PATH = r'/media/mtambos/speedy/GoogleNews-vectors-negative300.bin.gz'\n",
    "    VOCAB_PATH = r'/media/mtambos/speedy/big.txt'\n",
    "#df_orig = pd.read_csv(TRAIN_PATH, index_col=\"ID\")\n",
    "df = pd.read_csv(PTRAIN_PATH, index_col=\"ID\")\n",
    "#df"
   ]
  },
  {
   "cell_type": "markdown",
   "metadata": {},
   "source": [
    "### Define columns"
   ]
  },
  {
   "cell_type": "code",
   "execution_count": 3,
   "metadata": {
    "collapsed": false
   },
   "outputs": [],
   "source": [
    "date_cols = ['VAR_0073', 'VAR_0075', 'VAR_0156',\n",
    "             'VAR_0157', 'VAR_0158', 'VAR_0159',\n",
    "             'VAR_0166', 'VAR_0167', 'VAR_0168',\n",
    "             'VAR_0169', 'VAR_0176', 'VAR_0177',\n",
    "             'VAR_0178', 'VAR_0179', 'VAR_0204',\n",
    "             'VAR_0217', 'VAR_0294', 'VAR_0314']"
   ]
  },
  {
   "cell_type": "markdown",
   "metadata": {},
   "source": [
    "## Parse the weird date format of the date column"
   ]
  },
  {
   "cell_type": "code",
   "execution_count": 6,
   "metadata": {
    "collapsed": true
   },
   "outputs": [
    {
     "data": {
      "text/html": [
       "<div>\n",
       "<table border=\"1\" class=\"dataframe\">\n",
       "  <thead>\n",
       "    <tr style=\"text-align: right;\">\n",
       "      <th></th>\n",
       "      <th>VAR_0073</th>\n",
       "      <th>VAR_0075</th>\n",
       "      <th>VAR_0156</th>\n",
       "      <th>VAR_0157</th>\n",
       "      <th>VAR_0158</th>\n",
       "      <th>VAR_0159</th>\n",
       "      <th>VAR_0166</th>\n",
       "      <th>VAR_0167</th>\n",
       "      <th>VAR_0168</th>\n",
       "      <th>VAR_0169</th>\n",
       "      <th>VAR_0176</th>\n",
       "      <th>VAR_0177</th>\n",
       "      <th>VAR_0178</th>\n",
       "      <th>VAR_0179</th>\n",
       "      <th>VAR_0204</th>\n",
       "      <th>VAR_0217</th>\n",
       "      <th>VAR_0294</th>\n",
       "      <th>VAR_0314</th>\n",
       "    </tr>\n",
       "  </thead>\n",
       "  <tbody>\n",
       "    <tr>\n",
       "      <th>count</th>\n",
       "      <td>44104</td>\n",
       "      <td>145175</td>\n",
       "      <td>5870</td>\n",
       "      <td>920</td>\n",
       "      <td>2089</td>\n",
       "      <td>5870</td>\n",
       "      <td>14230</td>\n",
       "      <td>2567</td>\n",
       "      <td>10725</td>\n",
       "      <td>14230</td>\n",
       "      <td>17532</td>\n",
       "      <td>3358</td>\n",
       "      <td>12073</td>\n",
       "      <td>17532</td>\n",
       "      <td>145175</td>\n",
       "      <td>145175</td>\n",
       "      <td>93943</td>\n",
       "      <td>88770</td>\n",
       "    </tr>\n",
       "    <tr>\n",
       "      <th>unique</th>\n",
       "      <td>1458</td>\n",
       "      <td>2371</td>\n",
       "      <td>730</td>\n",
       "      <td>424</td>\n",
       "      <td>407</td>\n",
       "      <td>650</td>\n",
       "      <td>2145</td>\n",
       "      <td>853</td>\n",
       "      <td>1645</td>\n",
       "      <td>1908</td>\n",
       "      <td>2163</td>\n",
       "      <td>945</td>\n",
       "      <td>1648</td>\n",
       "      <td>1875</td>\n",
       "      <td>1192</td>\n",
       "      <td>397</td>\n",
       "      <td>17</td>\n",
       "      <td>17</td>\n",
       "    </tr>\n",
       "    <tr>\n",
       "      <th>top</th>\n",
       "      <td>2009-03-13 00:00:00</td>\n",
       "      <td>2010-09-22 00:00:00</td>\n",
       "      <td>2011-12-12 00:00:00</td>\n",
       "      <td>2012-07-27 00:00:00</td>\n",
       "      <td>2012-06-01 00:00:00</td>\n",
       "      <td>2012-06-04 00:00:00</td>\n",
       "      <td>2011-12-19 00:00:00</td>\n",
       "      <td>2011-11-03 00:00:00</td>\n",
       "      <td>2011-11-03 00:00:00</td>\n",
       "      <td>2011-12-19 00:00:00</td>\n",
       "      <td>2011-12-12 00:00:00</td>\n",
       "      <td>2011-11-03 00:00:00</td>\n",
       "      <td>2011-11-03 00:00:00</td>\n",
       "      <td>2012-06-04 00:00:00</td>\n",
       "      <td>2014-01-31 15:54:00</td>\n",
       "      <td>2011-12-06 02:00:00</td>\n",
       "      <td>2012-01-01 00:00:00</td>\n",
       "      <td>2012-01-01 00:00:00</td>\n",
       "    </tr>\n",
       "    <tr>\n",
       "      <th>freq</th>\n",
       "      <td>260</td>\n",
       "      <td>1168</td>\n",
       "      <td>45</td>\n",
       "      <td>8</td>\n",
       "      <td>28</td>\n",
       "      <td>49</td>\n",
       "      <td>45</td>\n",
       "      <td>27</td>\n",
       "      <td>206</td>\n",
       "      <td>48</td>\n",
       "      <td>67</td>\n",
       "      <td>28</td>\n",
       "      <td>200</td>\n",
       "      <td>83</td>\n",
       "      <td>242</td>\n",
       "      <td>893</td>\n",
       "      <td>51338</td>\n",
       "      <td>48483</td>\n",
       "    </tr>\n",
       "    <tr>\n",
       "      <th>first</th>\n",
       "      <td>2008-01-02 00:00:00</td>\n",
       "      <td>2001-01-01 00:00:00</td>\n",
       "      <td>2008-04-11 00:00:00</td>\n",
       "      <td>2008-10-17 00:00:00</td>\n",
       "      <td>2008-09-30 00:00:00</td>\n",
       "      <td>2008-09-23 00:00:00</td>\n",
       "      <td>2002-07-30 00:00:00</td>\n",
       "      <td>2005-02-12 00:00:00</td>\n",
       "      <td>1999-12-31 00:00:00</td>\n",
       "      <td>2002-07-30 00:00:00</td>\n",
       "      <td>2002-07-30 00:00:00</td>\n",
       "      <td>2005-02-12 00:00:00</td>\n",
       "      <td>1999-12-31 00:00:00</td>\n",
       "      <td>2002-07-30 00:00:00</td>\n",
       "      <td>2014-01-29 18:45:00</td>\n",
       "      <td>2011-10-02 02:00:00</td>\n",
       "      <td>1995-01-01 00:00:00</td>\n",
       "      <td>1995-01-01 00:00:00</td>\n",
       "    </tr>\n",
       "    <tr>\n",
       "      <th>last</th>\n",
       "      <td>2012-10-31 00:00:00</td>\n",
       "      <td>2012-11-01 00:00:00</td>\n",
       "      <td>2012-10-29 00:00:00</td>\n",
       "      <td>2012-10-31 00:00:00</td>\n",
       "      <td>2012-10-29 00:00:00</td>\n",
       "      <td>2012-10-29 00:00:00</td>\n",
       "      <td>2012-10-30 00:00:00</td>\n",
       "      <td>2012-10-30 00:00:00</td>\n",
       "      <td>2012-11-01 00:00:00</td>\n",
       "      <td>2012-11-01 00:00:00</td>\n",
       "      <td>2012-10-30 00:00:00</td>\n",
       "      <td>2012-10-31 00:00:00</td>\n",
       "      <td>2012-11-01 00:00:00</td>\n",
       "      <td>2012-11-01 00:00:00</td>\n",
       "      <td>2014-02-01 01:26:00</td>\n",
       "      <td>2012-11-01 02:00:00</td>\n",
       "      <td>2012-01-01 00:00:00</td>\n",
       "      <td>2012-01-01 00:00:00</td>\n",
       "    </tr>\n",
       "  </tbody>\n",
       "</table>\n",
       "</div>"
      ],
      "text/plain": [
       "                   VAR_0073             VAR_0075             VAR_0156  \\\n",
       "count                 44104               145175                 5870   \n",
       "unique                 1458                 2371                  730   \n",
       "top     2009-03-13 00:00:00  2010-09-22 00:00:00  2011-12-12 00:00:00   \n",
       "freq                    260                 1168                   45   \n",
       "first   2008-01-02 00:00:00  2001-01-01 00:00:00  2008-04-11 00:00:00   \n",
       "last    2012-10-31 00:00:00  2012-11-01 00:00:00  2012-10-29 00:00:00   \n",
       "\n",
       "                   VAR_0157             VAR_0158             VAR_0159  \\\n",
       "count                   920                 2089                 5870   \n",
       "unique                  424                  407                  650   \n",
       "top     2012-07-27 00:00:00  2012-06-01 00:00:00  2012-06-04 00:00:00   \n",
       "freq                      8                   28                   49   \n",
       "first   2008-10-17 00:00:00  2008-09-30 00:00:00  2008-09-23 00:00:00   \n",
       "last    2012-10-31 00:00:00  2012-10-29 00:00:00  2012-10-29 00:00:00   \n",
       "\n",
       "                   VAR_0166             VAR_0167             VAR_0168  \\\n",
       "count                 14230                 2567                10725   \n",
       "unique                 2145                  853                 1645   \n",
       "top     2011-12-19 00:00:00  2011-11-03 00:00:00  2011-11-03 00:00:00   \n",
       "freq                     45                   27                  206   \n",
       "first   2002-07-30 00:00:00  2005-02-12 00:00:00  1999-12-31 00:00:00   \n",
       "last    2012-10-30 00:00:00  2012-10-30 00:00:00  2012-11-01 00:00:00   \n",
       "\n",
       "                   VAR_0169             VAR_0176             VAR_0177  \\\n",
       "count                 14230                17532                 3358   \n",
       "unique                 1908                 2163                  945   \n",
       "top     2011-12-19 00:00:00  2011-12-12 00:00:00  2011-11-03 00:00:00   \n",
       "freq                     48                   67                   28   \n",
       "first   2002-07-30 00:00:00  2002-07-30 00:00:00  2005-02-12 00:00:00   \n",
       "last    2012-11-01 00:00:00  2012-10-30 00:00:00  2012-10-31 00:00:00   \n",
       "\n",
       "                   VAR_0178             VAR_0179             VAR_0204  \\\n",
       "count                 12073                17532               145175   \n",
       "unique                 1648                 1875                 1192   \n",
       "top     2011-11-03 00:00:00  2012-06-04 00:00:00  2014-01-31 15:54:00   \n",
       "freq                    200                   83                  242   \n",
       "first   1999-12-31 00:00:00  2002-07-30 00:00:00  2014-01-29 18:45:00   \n",
       "last    2012-11-01 00:00:00  2012-11-01 00:00:00  2014-02-01 01:26:00   \n",
       "\n",
       "                   VAR_0217             VAR_0294             VAR_0314  \n",
       "count                145175                93943                88770  \n",
       "unique                  397                   17                   17  \n",
       "top     2011-12-06 02:00:00  2012-01-01 00:00:00  2012-01-01 00:00:00  \n",
       "freq                    893                51338                48483  \n",
       "first   2011-10-02 02:00:00  1995-01-01 00:00:00  1995-01-01 00:00:00  \n",
       "last    2012-11-01 02:00:00  2012-01-01 00:00:00  2012-01-01 00:00:00  "
      ]
     },
     "execution_count": 6,
     "metadata": {},
     "output_type": "execute_result"
    }
   ],
   "source": [
    "def parse_date_str(date_val):\n",
    "    if isinstance(date_val, datetime):\n",
    "        return date_val\n",
    "    date_val = str(date_val).lower()\n",
    "    date_val = None if date_val == 'nan' else date_val\n",
    "    if date_val is None:\n",
    "        return pd.NaT\n",
    "    date_val = date_val[:-2] if date_val[-2:] == '.0' else date_val\n",
    "    try:\n",
    "        return datetime.strptime(date_val, '%d%b%y:%H:%M:%S')\n",
    "    except:\n",
    "        try:\n",
    "            return datetime.strptime(date_val, '%d%b%y')\n",
    "        except:\n",
    "            try:\n",
    "                return datetime.strptime(date_val, '%Y')\n",
    "            except:\n",
    "                print date_val\n",
    "                return pd.NaT\n",
    "\n",
    "df_date_cols = df[date_cols].applymap(parse_date_str).astype('datetime64[ns]')\n",
    "df_date_cols.describe()"
   ]
  },
  {
   "cell_type": "code",
   "execution_count": 11,
   "metadata": {
    "collapsed": true
   },
   "outputs": [],
   "source": [
    "df[date_cols] = df_date_cols"
   ]
  },
  {
   "cell_type": "markdown",
   "metadata": {},
   "source": [
    "###  Drop duplicate rows"
   ]
  },
  {
   "cell_type": "code",
   "execution_count": 8,
   "metadata": {
    "collapsed": false
   },
   "outputs": [],
   "source": [
    "df.drop_duplicates(inplace=True)"
   ]
  },
  {
   "cell_type": "markdown",
   "metadata": {},
   "source": [
    "### Drop duplicate columns"
   ]
  },
  {
   "cell_type": "code",
   "execution_count": 13,
   "metadata": {
    "collapsed": false
   },
   "outputs": [
    {
     "data": {
      "text/plain": [
       "set()"
      ]
     },
     "execution_count": 13,
     "metadata": {},
     "output_type": "execute_result"
    }
   ],
   "source": [
    "cols_to_drop = set()\n",
    "for i, col in enumerate(date_cols):\n",
    "    for col2 in date_cols[i+1:]:\n",
    "        if (df[col] == df[col2]).all():\n",
    "            cols_to_drop.add(col2)\n",
    "cols_to_drop"
   ]
  },
  {
   "cell_type": "markdown",
   "metadata": {},
   "source": [
    "### Remove columns with only NaNs"
   ]
  },
  {
   "cell_type": "code",
   "execution_count": 14,
   "metadata": {
    "collapsed": false
   },
   "outputs": [
    {
     "data": {
      "text/plain": [
       "[]"
      ]
     },
     "execution_count": 14,
     "metadata": {},
     "output_type": "execute_result"
    }
   ],
   "source": [
    "nan_cols = df.isnull().all()\n",
    "nan_cols = nan_cols.index[nan_cols].tolist()\n",
    "nan_cols"
   ]
  },
  {
   "cell_type": "markdown",
   "metadata": {},
   "source": [
    "# Vectorize Datetime colums"
   ]
  },
  {
   "cell_type": "markdown",
   "metadata": {},
   "source": [
    "### Create dataframes to separately store the year, month and day information of the date columns"
   ]
  },
  {
   "cell_type": "code",
   "execution_count": 17,
   "metadata": {
    "collapsed": false
   },
   "outputs": [],
   "source": [
    "df[date_cols] = df[date_cols].astype('datetime64[ns]')\n",
    "years = pd.DataFrame(columns=[c+'_year' for c in date_cols], index=df.index, dtype=np.int)\n",
    "months = pd.DataFrame(columns=[c+'_month' for c in date_cols], index=df.index, dtype=np.int)\n",
    "days = pd.DataFrame(columns=[c+'_day' for c in date_cols], index=df.index, dtype=np.int)\n",
    "\n",
    "for c in date_cols:\n",
    "    dateIndex = pd.DatetimeIndex(df[c])\n",
    "    years[c+'_year'] = dateIndex.year\n",
    "    months[c+'_month'] = dateIndex.month\n",
    "    days[c+'_day'] = dateIndex.day"
   ]
  },
  {
   "cell_type": "markdown",
   "metadata": {},
   "source": [
    "### Delete the original date columns and join the years, months and days DataFrames with the original DataFrame"
   ]
  },
  {
   "cell_type": "code",
   "execution_count": 18,
   "metadata": {
    "collapsed": false
   },
   "outputs": [],
   "source": [
    "df = df.drop(date_cols, axis=1)\n",
    "df = df.join(years)\n",
    "df = df.join(months)\n",
    "df = df.join(days)"
   ]
  },
  {
   "cell_type": "code",
   "execution_count": 19,
   "metadata": {
    "collapsed": true
   },
   "outputs": [],
   "source": [
    "date_cols = years.columns.tolist() + months.columns.tolist() + days.columns.tolist()"
   ]
  },
  {
   "cell_type": "markdown",
   "metadata": {},
   "source": [
    "# Eliminate columns with 0 variance"
   ]
  },
  {
   "cell_type": "markdown",
   "metadata": {},
   "source": [
    "## See which columns have low standard deviation"
   ]
  },
  {
   "cell_type": "code",
   "execution_count": 21,
   "metadata": {
    "collapsed": false
   },
   "outputs": [
    {
     "data": {
      "text/html": [
       "<div>\n",
       "<table border=\"1\" class=\"dataframe\">\n",
       "  <thead>\n",
       "    <tr style=\"text-align: right;\">\n",
       "      <th></th>\n",
       "      <th>VAR_0733</th>\n",
       "      <th>VAR_0736</th>\n",
       "      <th>VAR_0737</th>\n",
       "      <th>VAR_0739</th>\n",
       "      <th>VAR_0204_year</th>\n",
       "      <th>VAR_0294_month</th>\n",
       "      <th>VAR_0314_month</th>\n",
       "      <th>VAR_0294_day</th>\n",
       "      <th>VAR_0314_day</th>\n",
       "      <th>VAR_0526</th>\n",
       "      <th>...</th>\n",
       "      <th>VAR_0330</th>\n",
       "      <th>VAR_0289</th>\n",
       "      <th>VAR_0315</th>\n",
       "      <th>VAR_0295</th>\n",
       "      <th>VAR_0293</th>\n",
       "      <th>VAR_0313</th>\n",
       "      <th>VAR_0340</th>\n",
       "      <th>VAR_0331</th>\n",
       "      <th>VAR_0333</th>\n",
       "      <th>VAR_0212</th>\n",
       "    </tr>\n",
       "  </thead>\n",
       "  <tbody>\n",
       "    <tr>\n",
       "      <th>count</th>\n",
       "      <td>145231</td>\n",
       "      <td>145231</td>\n",
       "      <td>145231</td>\n",
       "      <td>145231</td>\n",
       "      <td>145175</td>\n",
       "      <td>93943</td>\n",
       "      <td>88770</td>\n",
       "      <td>93943</td>\n",
       "      <td>88770</td>\n",
       "      <td>145231.000000</td>\n",
       "      <td>...</td>\n",
       "      <td>1.452310e+05</td>\n",
       "      <td>1.452310e+05</td>\n",
       "      <td>1.452310e+05</td>\n",
       "      <td>1.452310e+05</td>\n",
       "      <td>1.452310e+05</td>\n",
       "      <td>1.452310e+05</td>\n",
       "      <td>1.452310e+05</td>\n",
       "      <td>1.452310e+05</td>\n",
       "      <td>1.452310e+05</td>\n",
       "      <td>1.452310e+05</td>\n",
       "    </tr>\n",
       "    <tr>\n",
       "      <th>mean</th>\n",
       "      <td>0</td>\n",
       "      <td>0</td>\n",
       "      <td>0</td>\n",
       "      <td>0</td>\n",
       "      <td>2014</td>\n",
       "      <td>1</td>\n",
       "      <td>1</td>\n",
       "      <td>1</td>\n",
       "      <td>1</td>\n",
       "      <td>0.000007</td>\n",
       "      <td>...</td>\n",
       "      <td>4.803098e+04</td>\n",
       "      <td>5.442426e+04</td>\n",
       "      <td>9.795514e+04</td>\n",
       "      <td>1.031416e+05</td>\n",
       "      <td>1.080350e+05</td>\n",
       "      <td>1.062522e+05</td>\n",
       "      <td>-1.161031e+04</td>\n",
       "      <td>9.404519e+04</td>\n",
       "      <td>8.855007e+04</td>\n",
       "      <td>5.168069e+10</td>\n",
       "    </tr>\n",
       "    <tr>\n",
       "      <th>std</th>\n",
       "      <td>0</td>\n",
       "      <td>0</td>\n",
       "      <td>0</td>\n",
       "      <td>0</td>\n",
       "      <td>0</td>\n",
       "      <td>0</td>\n",
       "      <td>0</td>\n",
       "      <td>0</td>\n",
       "      <td>0</td>\n",
       "      <td>0.002624</td>\n",
       "      <td>...</td>\n",
       "      <td>9.788183e+05</td>\n",
       "      <td>1.118892e+06</td>\n",
       "      <td>1.221113e+06</td>\n",
       "      <td>1.291840e+06</td>\n",
       "      <td>1.418194e+06</td>\n",
       "      <td>1.453820e+06</td>\n",
       "      <td>1.512625e+06</td>\n",
       "      <td>1.551878e+06</td>\n",
       "      <td>1.567272e+06</td>\n",
       "      <td>2.482392e+10</td>\n",
       "    </tr>\n",
       "    <tr>\n",
       "      <th>min</th>\n",
       "      <td>0</td>\n",
       "      <td>0</td>\n",
       "      <td>0</td>\n",
       "      <td>0</td>\n",
       "      <td>2014</td>\n",
       "      <td>1</td>\n",
       "      <td>1</td>\n",
       "      <td>1</td>\n",
       "      <td>1</td>\n",
       "      <td>0.000000</td>\n",
       "      <td>...</td>\n",
       "      <td>-1.000000e+00</td>\n",
       "      <td>-1.000000e+00</td>\n",
       "      <td>-1.000000e+00</td>\n",
       "      <td>-1.000000e+00</td>\n",
       "      <td>-1.000000e+00</td>\n",
       "      <td>-1.000000e+00</td>\n",
       "      <td>-3.444084e+08</td>\n",
       "      <td>-1.000000e+00</td>\n",
       "      <td>-1.000000e+00</td>\n",
       "      <td>7.001162e+09</td>\n",
       "    </tr>\n",
       "    <tr>\n",
       "      <th>25%</th>\n",
       "      <td>0</td>\n",
       "      <td>0</td>\n",
       "      <td>0</td>\n",
       "      <td>0</td>\n",
       "      <td>2014</td>\n",
       "      <td>1</td>\n",
       "      <td>1</td>\n",
       "      <td>1</td>\n",
       "      <td>1</td>\n",
       "      <td>0.000000</td>\n",
       "      <td>...</td>\n",
       "      <td>-1.000000e+00</td>\n",
       "      <td>-1.000000e+00</td>\n",
       "      <td>0.000000e+00</td>\n",
       "      <td>0.000000e+00</td>\n",
       "      <td>0.000000e+00</td>\n",
       "      <td>0.000000e+00</td>\n",
       "      <td>-1.000000e+00</td>\n",
       "      <td>0.000000e+00</td>\n",
       "      <td>0.000000e+00</td>\n",
       "      <td>3.024070e+10</td>\n",
       "    </tr>\n",
       "    <tr>\n",
       "      <th>50%</th>\n",
       "      <td>0</td>\n",
       "      <td>0</td>\n",
       "      <td>0</td>\n",
       "      <td>0</td>\n",
       "      <td>2014</td>\n",
       "      <td>1</td>\n",
       "      <td>1</td>\n",
       "      <td>1</td>\n",
       "      <td>1</td>\n",
       "      <td>0.000000</td>\n",
       "      <td>...</td>\n",
       "      <td>-1.000000e+00</td>\n",
       "      <td>-1.000000e+00</td>\n",
       "      <td>0.000000e+00</td>\n",
       "      <td>0.000000e+00</td>\n",
       "      <td>1.060000e+04</td>\n",
       "      <td>6.910000e+03</td>\n",
       "      <td>-1.000000e+00</td>\n",
       "      <td>0.000000e+00</td>\n",
       "      <td>0.000000e+00</td>\n",
       "      <td>4.442527e+10</td>\n",
       "    </tr>\n",
       "    <tr>\n",
       "      <th>75%</th>\n",
       "      <td>0</td>\n",
       "      <td>0</td>\n",
       "      <td>0</td>\n",
       "      <td>0</td>\n",
       "      <td>2014</td>\n",
       "      <td>1</td>\n",
       "      <td>1</td>\n",
       "      <td>1</td>\n",
       "      <td>1</td>\n",
       "      <td>0.000000</td>\n",
       "      <td>...</td>\n",
       "      <td>0.000000e+00</td>\n",
       "      <td>-1.000000e+00</td>\n",
       "      <td>8.330000e+04</td>\n",
       "      <td>8.852700e+04</td>\n",
       "      <td>7.880000e+04</td>\n",
       "      <td>7.276400e+04</td>\n",
       "      <td>-1.000000e+00</td>\n",
       "      <td>4.215500e+04</td>\n",
       "      <td>4.920000e+04</td>\n",
       "      <td>7.543025e+10</td>\n",
       "    </tr>\n",
       "    <tr>\n",
       "      <th>max</th>\n",
       "      <td>0</td>\n",
       "      <td>0</td>\n",
       "      <td>0</td>\n",
       "      <td>0</td>\n",
       "      <td>2014</td>\n",
       "      <td>1</td>\n",
       "      <td>1</td>\n",
       "      <td>1</td>\n",
       "      <td>1</td>\n",
       "      <td>1.000000</td>\n",
       "      <td>...</td>\n",
       "      <td>1.910000e+08</td>\n",
       "      <td>1.910000e+08</td>\n",
       "      <td>2.415000e+08</td>\n",
       "      <td>2.415000e+08</td>\n",
       "      <td>2.415000e+08</td>\n",
       "      <td>2.415000e+08</td>\n",
       "      <td>1.006916e+08</td>\n",
       "      <td>3.444094e+08</td>\n",
       "      <td>3.444094e+08</td>\n",
       "      <td>9.940328e+10</td>\n",
       "    </tr>\n",
       "  </tbody>\n",
       "</table>\n",
       "<p>8 rows × 1909 columns</p>\n",
       "</div>"
      ],
      "text/plain": [
       "       VAR_0733  VAR_0736  VAR_0737  VAR_0739  VAR_0204_year  VAR_0294_month  \\\n",
       "count    145231    145231    145231    145231         145175           93943   \n",
       "mean          0         0         0         0           2014               1   \n",
       "std           0         0         0         0              0               0   \n",
       "min           0         0         0         0           2014               1   \n",
       "25%           0         0         0         0           2014               1   \n",
       "50%           0         0         0         0           2014               1   \n",
       "75%           0         0         0         0           2014               1   \n",
       "max           0         0         0         0           2014               1   \n",
       "\n",
       "       VAR_0314_month  VAR_0294_day  VAR_0314_day       VAR_0526  \\\n",
       "count           88770         93943         88770  145231.000000   \n",
       "mean                1             1             1       0.000007   \n",
       "std                 0             0             0       0.002624   \n",
       "min                 1             1             1       0.000000   \n",
       "25%                 1             1             1       0.000000   \n",
       "50%                 1             1             1       0.000000   \n",
       "75%                 1             1             1       0.000000   \n",
       "max                 1             1             1       1.000000   \n",
       "\n",
       "           ...           VAR_0330      VAR_0289      VAR_0315      VAR_0295  \\\n",
       "count      ...       1.452310e+05  1.452310e+05  1.452310e+05  1.452310e+05   \n",
       "mean       ...       4.803098e+04  5.442426e+04  9.795514e+04  1.031416e+05   \n",
       "std        ...       9.788183e+05  1.118892e+06  1.221113e+06  1.291840e+06   \n",
       "min        ...      -1.000000e+00 -1.000000e+00 -1.000000e+00 -1.000000e+00   \n",
       "25%        ...      -1.000000e+00 -1.000000e+00  0.000000e+00  0.000000e+00   \n",
       "50%        ...      -1.000000e+00 -1.000000e+00  0.000000e+00  0.000000e+00   \n",
       "75%        ...       0.000000e+00 -1.000000e+00  8.330000e+04  8.852700e+04   \n",
       "max        ...       1.910000e+08  1.910000e+08  2.415000e+08  2.415000e+08   \n",
       "\n",
       "           VAR_0293      VAR_0313      VAR_0340      VAR_0331      VAR_0333  \\\n",
       "count  1.452310e+05  1.452310e+05  1.452310e+05  1.452310e+05  1.452310e+05   \n",
       "mean   1.080350e+05  1.062522e+05 -1.161031e+04  9.404519e+04  8.855007e+04   \n",
       "std    1.418194e+06  1.453820e+06  1.512625e+06  1.551878e+06  1.567272e+06   \n",
       "min   -1.000000e+00 -1.000000e+00 -3.444084e+08 -1.000000e+00 -1.000000e+00   \n",
       "25%    0.000000e+00  0.000000e+00 -1.000000e+00  0.000000e+00  0.000000e+00   \n",
       "50%    1.060000e+04  6.910000e+03 -1.000000e+00  0.000000e+00  0.000000e+00   \n",
       "75%    7.880000e+04  7.276400e+04 -1.000000e+00  4.215500e+04  4.920000e+04   \n",
       "max    2.415000e+08  2.415000e+08  1.006916e+08  3.444094e+08  3.444094e+08   \n",
       "\n",
       "           VAR_0212  \n",
       "count  1.452310e+05  \n",
       "mean   5.168069e+10  \n",
       "std    2.482392e+10  \n",
       "min    7.001162e+09  \n",
       "25%    3.024070e+10  \n",
       "50%    4.442527e+10  \n",
       "75%    7.543025e+10  \n",
       "max    9.940328e+10  \n",
       "\n",
       "[8 rows x 1909 columns]"
      ]
     },
     "execution_count": 21,
     "metadata": {},
     "output_type": "execute_result"
    }
   ],
   "source": [
    "df_desc = df.describe()\n",
    "df_desc[sorted(df_desc.columns, key=lambda x: df_desc.loc['std', x])]"
   ]
  },
  {
   "cell_type": "markdown",
   "metadata": {},
   "source": [
    "## Eliminate all columns with standard deviation equal to 0"
   ]
  },
  {
   "cell_type": "code",
   "execution_count": 27,
   "metadata": {
    "collapsed": false
   },
   "outputs": [],
   "source": [
    "std_series = df_desc.loc['std', :]\n",
    "null_std_cols = std_series[std_series == 0]\n",
    "df = df.drop(null_std_cols.index, axis=1)"
   ]
  },
  {
   "cell_type": "markdown",
   "metadata": {},
   "source": [
    "# Save preprocessed data to another csv file"
   ]
  },
  {
   "cell_type": "code",
   "execution_count": 28,
   "metadata": {
    "collapsed": false
   },
   "outputs": [],
   "source": [
    "df.to_csv(PTRAIN_PATH)"
   ]
  },
  {
   "cell_type": "code",
   "execution_count": 24,
   "metadata": {
    "collapsed": false
   },
   "outputs": [],
   "source": [
    "with open('date_cols.pickle', 'wb') as fp:\n",
    "    pickle.dump(date_cols, fp)"
   ]
  }
 ],
 "metadata": {
  "kernelspec": {
   "display_name": "Python 2",
   "language": "python",
   "name": "python2"
  },
  "language_info": {
   "codemirror_mode": {
    "name": "ipython",
    "version": 2
   },
   "file_extension": ".py",
   "mimetype": "text/x-python",
   "name": "python",
   "nbconvert_exporter": "python",
   "pygments_lexer": "ipython2",
   "version": "2.7.10"
  }
 },
 "nbformat": 4,
 "nbformat_minor": 0
}
