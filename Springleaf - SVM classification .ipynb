{
 "cells": [
  {
   "cell_type": "code",
   "execution_count": 2,
   "metadata": {
    "collapsed": false
   },
   "outputs": [
    {
     "name": "stdout",
     "output_type": "stream",
     "text": [
      "Using matplotlib backend: Qt4Agg\n",
      "Populating the interactive namespace from numpy and matplotlib\n"
     ]
    }
   ],
   "source": [
    "%pylab\n",
    "%load_ext autoreload\n",
    "%autoreload 2\n",
    "\n",
    "from datetime import datetime, timedelta\n",
    "\n",
    "import os\n",
    "import sys\n",
    "\n",
    "import numpy as np\n",
    "import pandas as pd\n",
    "from scipy import sparse\n",
    "import sklearn as sl\n",
    "\n",
    "from sklearn.cross_validation import StratifiedKFold\n",
    "from sklearn.svm import \n",
    "from sklearn.metrics import roc_auc_score, precision_recall_fscore_support\n",
    "\n",
    "from cPickle import Pickler"
   ]
  },
  {
   "cell_type": "markdown",
   "metadata": {},
   "source": [
    "## Load preprocessed train data"
   ]
  },
  {
   "cell_type": "code",
   "execution_count": 3,
   "metadata": {
    "collapsed": false
   },
   "outputs": [],
   "source": [
    "if os.name == 'nt':\n",
    "    TRAIN_PATH = r'D:\\train.csv'\n",
    "    PTRAIN_PATH = r'D:\\train_preprocessed2.csv'\n",
    "    TEST_PATH = r'D:\\test.csv'\n",
    "    GOOGNEWS_PATH = r'D:\\GoogleNews-vectors-negative300.bin.gz'\n",
    "    VOCAB_PATH = r'D:\\big.txt'\n",
    "else:\n",
    "    TRAIN_PATH = r'/media/speedy/train.csv'\n",
    "    PTRAIN_PATH = r'/media/speedy/train_preprocessed2.csv'\n",
    "    TEST_PATH = r'/media/speedy/test.csv'\n",
    "    GOOGNEWS_PATH = r'/media/speedy/GoogleNews-vectors-negative300.bin.gz'\n",
    "    VOCAB_PATH = r'/media/speedy/big.txt'\n",
    "df = pd.read_csv(PTRAIN_PATH, dtype=np.float32)"
   ]
  },
  {
   "cell_type": "code",
   "execution_count": 4,
   "metadata": {
    "collapsed": false
   },
   "outputs": [
    {
     "name": "stdout",
     "output_type": "stream",
     "text": [
      "Calculating medians\n",
      "Filling NAs\n"
     ]
    }
   ],
   "source": [
    "print \"Calculating medians\"\n",
    "df_median = df.median(skipna=True)\n",
    "print \"Filling NAs\"\n",
    "df = df.fillna(value=df_median)"
   ]
  },
  {
   "cell_type": "code",
   "execution_count": 5,
   "metadata": {
    "collapsed": true
   },
   "outputs": [
    {
     "ename": "ValueError",
     "evalue": "labels ['VAR_0207' 'VAR_0213' 'VAR_0840'] not contained in axis",
     "output_type": "error",
     "traceback": [
      "\u001b[1;31m---------------------------------------------------------------------------\u001b[0m",
      "\u001b[1;31mValueError\u001b[0m                                Traceback (most recent call last)",
      "\u001b[1;32m<ipython-input-5-d9241690f29f>\u001b[0m in \u001b[0;36m<module>\u001b[1;34m()\u001b[0m\n\u001b[0;32m      1\u001b[0m \u001b[0mdf\u001b[0m \u001b[1;33m=\u001b[0m \u001b[0mdf\u001b[0m\u001b[1;33m.\u001b[0m\u001b[0mastype\u001b[0m\u001b[1;33m(\u001b[0m\u001b[0mnp\u001b[0m\u001b[1;33m.\u001b[0m\u001b[0mfloat32\u001b[0m\u001b[1;33m)\u001b[0m\u001b[1;33m\u001b[0m\u001b[0m\n\u001b[1;32m----> 2\u001b[1;33m \u001b[0mdf\u001b[0m \u001b[1;33m=\u001b[0m \u001b[0mdf\u001b[0m\u001b[1;33m.\u001b[0m\u001b[0mdrop\u001b[0m\u001b[1;33m(\u001b[0m\u001b[1;33m[\u001b[0m\u001b[1;34m'VAR_0207'\u001b[0m\u001b[1;33m,\u001b[0m \u001b[1;34m'VAR_0213'\u001b[0m\u001b[1;33m,\u001b[0m \u001b[1;34m'VAR_0840'\u001b[0m\u001b[1;33m]\u001b[0m\u001b[1;33m,\u001b[0m \u001b[0maxis\u001b[0m\u001b[1;33m=\u001b[0m\u001b[1;36m1\u001b[0m\u001b[1;33m)\u001b[0m\u001b[1;33m\u001b[0m\u001b[0m\n\u001b[0m",
      "\u001b[1;32m/home/mtambos/anaconda/lib/python2.7/site-packages/pandas/core/generic.pyc\u001b[0m in \u001b[0;36mdrop\u001b[1;34m(self, labels, axis, level, inplace, errors)\u001b[0m\n\u001b[0;32m   1595\u001b[0m                 \u001b[0mnew_axis\u001b[0m \u001b[1;33m=\u001b[0m \u001b[0maxis\u001b[0m\u001b[1;33m.\u001b[0m\u001b[0mdrop\u001b[0m\u001b[1;33m(\u001b[0m\u001b[0mlabels\u001b[0m\u001b[1;33m,\u001b[0m \u001b[0mlevel\u001b[0m\u001b[1;33m=\u001b[0m\u001b[0mlevel\u001b[0m\u001b[1;33m,\u001b[0m \u001b[0merrors\u001b[0m\u001b[1;33m=\u001b[0m\u001b[0merrors\u001b[0m\u001b[1;33m)\u001b[0m\u001b[1;33m\u001b[0m\u001b[0m\n\u001b[0;32m   1596\u001b[0m             \u001b[1;32melse\u001b[0m\u001b[1;33m:\u001b[0m\u001b[1;33m\u001b[0m\u001b[0m\n\u001b[1;32m-> 1597\u001b[1;33m                 \u001b[0mnew_axis\u001b[0m \u001b[1;33m=\u001b[0m \u001b[0maxis\u001b[0m\u001b[1;33m.\u001b[0m\u001b[0mdrop\u001b[0m\u001b[1;33m(\u001b[0m\u001b[0mlabels\u001b[0m\u001b[1;33m,\u001b[0m \u001b[0merrors\u001b[0m\u001b[1;33m=\u001b[0m\u001b[0merrors\u001b[0m\u001b[1;33m)\u001b[0m\u001b[1;33m\u001b[0m\u001b[0m\n\u001b[0m\u001b[0;32m   1598\u001b[0m             \u001b[0mdropped\u001b[0m \u001b[1;33m=\u001b[0m \u001b[0mself\u001b[0m\u001b[1;33m.\u001b[0m\u001b[0mreindex\u001b[0m\u001b[1;33m(\u001b[0m\u001b[1;33m**\u001b[0m\u001b[1;33m{\u001b[0m\u001b[0maxis_name\u001b[0m\u001b[1;33m:\u001b[0m \u001b[0mnew_axis\u001b[0m\u001b[1;33m}\u001b[0m\u001b[1;33m)\u001b[0m\u001b[1;33m\u001b[0m\u001b[0m\n\u001b[0;32m   1599\u001b[0m             \u001b[1;32mtry\u001b[0m\u001b[1;33m:\u001b[0m\u001b[1;33m\u001b[0m\u001b[0m\n",
      "\u001b[1;32m/home/mtambos/anaconda/lib/python2.7/site-packages/pandas/core/index.pyc\u001b[0m in \u001b[0;36mdrop\u001b[1;34m(self, labels, errors)\u001b[0m\n\u001b[0;32m   2568\u001b[0m         \u001b[1;32mif\u001b[0m \u001b[0mmask\u001b[0m\u001b[1;33m.\u001b[0m\u001b[0many\u001b[0m\u001b[1;33m(\u001b[0m\u001b[1;33m)\u001b[0m\u001b[1;33m:\u001b[0m\u001b[1;33m\u001b[0m\u001b[0m\n\u001b[0;32m   2569\u001b[0m             \u001b[1;32mif\u001b[0m \u001b[0merrors\u001b[0m \u001b[1;33m!=\u001b[0m \u001b[1;34m'ignore'\u001b[0m\u001b[1;33m:\u001b[0m\u001b[1;33m\u001b[0m\u001b[0m\n\u001b[1;32m-> 2570\u001b[1;33m                 \u001b[1;32mraise\u001b[0m \u001b[0mValueError\u001b[0m\u001b[1;33m(\u001b[0m\u001b[1;34m'labels %s not contained in axis'\u001b[0m \u001b[1;33m%\u001b[0m \u001b[0mlabels\u001b[0m\u001b[1;33m[\u001b[0m\u001b[0mmask\u001b[0m\u001b[1;33m]\u001b[0m\u001b[1;33m)\u001b[0m\u001b[1;33m\u001b[0m\u001b[0m\n\u001b[0m\u001b[0;32m   2571\u001b[0m             \u001b[0mindexer\u001b[0m \u001b[1;33m=\u001b[0m \u001b[0mindexer\u001b[0m\u001b[1;33m[\u001b[0m\u001b[1;33m~\u001b[0m\u001b[0mmask\u001b[0m\u001b[1;33m]\u001b[0m\u001b[1;33m\u001b[0m\u001b[0m\n\u001b[0;32m   2572\u001b[0m         \u001b[1;32mreturn\u001b[0m \u001b[0mself\u001b[0m\u001b[1;33m.\u001b[0m\u001b[0mdelete\u001b[0m\u001b[1;33m(\u001b[0m\u001b[0mindexer\u001b[0m\u001b[1;33m)\u001b[0m\u001b[1;33m\u001b[0m\u001b[0m\n",
      "\u001b[1;31mValueError\u001b[0m: labels ['VAR_0207' 'VAR_0213' 'VAR_0840'] not contained in axis"
     ]
    }
   ],
   "source": [
    "df = df.astype(np.float32)\n",
    "df = df.drop(['VAR_0207', 'VAR_0213', 'VAR_0840'], axis=1)"
   ]
  },
  {
   "cell_type": "code",
   "execution_count": 27,
   "metadata": {
    "collapsed": false
   },
   "outputs": [],
   "source": [
    "df.to_csv(r'D:\\train_preprocessed2.csv', index=False)"
   ]
  },
  {
   "cell_type": "code",
   "execution_count": 6,
   "metadata": {
    "collapsed": true
   },
   "outputs": [],
   "source": [
    "X = df.loc[:, df.columns != 'target']\n",
    "y = df['target']"
   ]
  },
  {
   "cell_type": "code",
   "execution_count": 7,
   "metadata": {
    "collapsed": false
   },
   "outputs": [
    {
     "name": "stderr",
     "output_type": "stream",
     "text": [
      "[Parallel(n_jobs=-1)]: Done   1 out of 1000 | elapsed:    5.5s remaining: 91.0min\n",
      "[Parallel(n_jobs=-1)]: Done 1000 out of 1000 | elapsed: 10.9min finished\n",
      "[Parallel(n_jobs=8)]: Done   1 out of 359 | elapsed:    0.0s remaining:   10.4s\n",
      "[Parallel(n_jobs=8)]: Done 1000 out of 1000 | elapsed:    4.9s finished\n",
      "[Parallel(n_jobs=-1)]: Done   1 out of 1000 | elapsed:    4.9s remaining: 81.9min\n",
      "[Parallel(n_jobs=-1)]: Done 1000 out of 1000 | elapsed: 10.5min finished\n",
      "[Parallel(n_jobs=8)]: Done   1 out of 308 | elapsed:    0.0s remaining:    8.9s\n",
      "[Parallel(n_jobs=8)]: Done 1000 out of 1000 | elapsed:    5.0s finished\n",
      "[Parallel(n_jobs=-1)]: Done   1 out of 1000 | elapsed:    5.1s remaining: 85.0min\n",
      "[Parallel(n_jobs=-1)]: Done 1000 out of 1000 | elapsed: 10.4min finished\n",
      "[Parallel(n_jobs=8)]: Done   1 out of  26 | elapsed:    0.0s remaining:    0.7s\n",
      "[Parallel(n_jobs=8)]: Done 1000 out of 1000 | elapsed:    5.0s finished\n",
      "[Parallel(n_jobs=-1)]: Done   1 out of 1000 | elapsed:    5.1s remaining: 84.3min\n",
      "[Parallel(n_jobs=-1)]: Done 1000 out of 1000 | elapsed: 10.3min finished\n",
      "[Parallel(n_jobs=8)]: Done   1 out of 237 | elapsed:    0.1s remaining:   13.7s\n",
      "[Parallel(n_jobs=8)]: Done 1000 out of 1000 | elapsed:    5.0s finished\n",
      "[Parallel(n_jobs=-1)]: Done   1 out of 1000 | elapsed:    5.2s remaining: 86.6min\n",
      "[Parallel(n_jobs=-1)]: Done 1000 out of 1000 | elapsed: 10.5min finished\n",
      "[Parallel(n_jobs=8)]: Done   1 out of  40 | elapsed:    0.0s remaining:    1.4s\n",
      "[Parallel(n_jobs=8)]: Done 1000 out of 1000 | elapsed:    4.9s finished\n"
     ]
    },
    {
     "name": "stdout",
     "output_type": "stream",
     "text": [
      "Building folds\n",
      "Iterating folds\n"
     ]
    }
   ],
   "source": [
    "print 'Building folds'\n",
    "skf = StratifiedKFold(y, n_folds=5)\n",
    "\n",
    "print 'Iterating folds'\n",
    "classifiers = []\n",
    "y_hats = []\n",
    "\n",
    "for train_index, test_index in skf:\n",
    "    classifier = RandomForestClassifier(n_estimators=1000, n_jobs=-1, verbose=1)\n",
    "    classifier.fit(X.iloc[train_index, :], y.iloc[train_index])\n",
    "    y_hat = classifier.predict_proba(X.iloc[test_index, :])\n",
    "\n",
    "    y_hats.append(y_hat)\n",
    "    classifiers.append(classifier)"
   ]
  },
  {
   "cell_type": "code",
   "execution_count": 39,
   "metadata": {
    "collapsed": false
   },
   "outputs": [
    {
     "name": "stdout",
     "output_type": "stream",
     "text": [
      "+---------+---------+---------+---------+\n",
      "|   auc   |precision| recall  |f1_score |\n",
      "+---------+---------+---------+---------+\n",
      "+---------+---------+---------+---------+\n",
      "| 0.4156  | 0.2874  | 0.2078  | 0.1129  |\n",
      "+---------+---------+---------+---------+\n",
      "+---------+---------+---------+---------+\n",
      "| 0.4175  | 0.2888  | 0.2085  | 0.1128  |\n",
      "+---------+---------+---------+---------+\n",
      "+---------+---------+---------+---------+\n",
      "| 0.4145  | 0.2914  | 0.2079  | 0.1143  |\n",
      "+---------+---------+---------+---------+\n",
      "+---------+---------+---------+---------+\n",
      "| 0.4137  | 0.2876  | 0.2073  | 0.1135  |\n",
      "+---------+---------+---------+---------+\n",
      "+---------+---------+---------+---------+\n",
      "|  0.416  |  0.282  | 0.2074  | 0.1115  |\n",
      "+---------+---------+---------+---------+\n"
     ]
    }
   ],
   "source": [
    "y_hats = np.asarray(y_hats)\n",
    "aucs = np.zeros(y_hats.shape)\n",
    "precisions = np.zeros(y_hats.shape)\n",
    "recalls = np.zeros(y_hats.shape)\n",
    "f1_scores = np.zeros(y_hats.shape)\n",
    "\n",
    "print '+---------+---------+---------+---------+'\n",
    "print '|   auc   |precision| recall  |f1_score |'\n",
    "print '+---------+---------+---------+---------+'\n",
    "for i, (train_index, test_index) in enumerate(skf):\n",
    "    y_hat_bin = y_hats[i].T[0] >= 0.5\n",
    "    auc = roc_auc_score(y.iloc[test_index], y_hat_bin)\n",
    "    precision, recall, f1_score, _ = precision_recall_fscore_support(y.iloc[test_index], y_hat_bin,\n",
    "                                                                     pos_label=None, average='binary')\n",
    "    aucs[i] = auc\n",
    "    precisions[i] = precision\n",
    "    recalls[i] = recall\n",
    "    f1_scores[i] = f1_score\n",
    "\n",
    "    print '+---------+---------+---------+---------+'\n",
    "    print '|{:^9.4}|{:^9.4}|{:^9.4}|{:^9.4}|'.format(auc, precision, recall, f1_score)\n",
    "    print '+---------+---------+---------+---------+'"
   ]
  },
  {
   "cell_type": "code",
   "execution_count": 45,
   "metadata": {
    "collapsed": false
   },
   "outputs": [
    {
     "name": "stdout",
     "output_type": "stream",
     "text": [
      "Index([u'VAR_0179_year', u'VAR_0005=s', u'VAR_0214=fsi-0005-1',\n",
      "       u'VAR_0214=hre-social security number-1289',\n",
      "       u'VAR_0214=hre-social security number-15335',\n",
      "       u'VAR_0214=hre-social security number-1855',\n",
      "       u'VAR_0214=hre-social security number-2857', u'VAR_0237=al',\n",
      "       u'VAR_0274=rn', u'VAR_0283=u', u'VAR_0342=ua', u'VAR_0354=u',\n",
      "       u'VAR_0214=hre-social security number-1747',\n",
      "       u'VAR_0214=hre-social security number-1397',\n",
      "       u'VAR_0214=hre-social security number-10143',\n",
      "       u'VAR_0214=hre-social security number-18823', u'VAR_0342=fu',\n",
      "       u'VAR_0214=hre-home phone-0621', u'VAR_0342=af',\n",
      "       u'VAR_0214=hre-social security number-1373', u'VAR_0283=s',\n",
      "       u'VAR_0214=hre-home phone-0779', u'VAR_0193', u'VAR_0191',\n",
      "       u'VAR_0237=mi', u'VAR_0237=co', u'VAR_0194', u'VAR_0114', u'VAR_0192',\n",
      "       u'VAR_0098', u'VAR_0138', u'VAR_0237=ct', u'VAR_0130', u'VAR_0342=bf',\n",
      "       u'VAR_0106', u'VAR_0325=f', u'VAR_0107', u'VAR_0342=eu', u'VAR_0342=au',\n",
      "       u'VAR_0181', u'VAR_0237=dc', u'VAR_0180', u'VAR_0195', u'VAR_0342=cf',\n",
      "       u'VAR_0182', u'VAR_0342=aa', u'VAR_0274=pr', u'VAR_0131',\n",
      "       u'VAR_0237=wv', u'VAR_0342=fa'],\n",
      "      dtype='object')\n",
      "Index([u'VAR_0179_year', u'VAR_0005=s', u'VAR_0214=fsi-0005-1',\n",
      "       u'VAR_0214=hre-social security number-10143',\n",
      "       u'VAR_0214=hre-social security number-1289',\n",
      "       u'VAR_0214=hre-social security number-1373',\n",
      "       u'VAR_0214=hre-social security number-1397',\n",
      "       u'VAR_0214=hre-social security number-15335',\n",
      "       u'VAR_0214=hre-social security number-1747',\n",
      "       u'VAR_0214=hre-social security number-1855',\n",
      "       u'VAR_0214=hre-social security number-2857', u'VAR_0237=co',\n",
      "       u'VAR_0274=rn', u'VAR_0283=u', u'VAR_0354=u', u'VAR_0342=ua',\n",
      "       u'VAR_0237=al', u'VAR_0342=af',\n",
      "       u'VAR_0214=hre-social security number-18823',\n",
      "       u'VAR_0214=hre-home phone-0621', u'VAR_0214=hre-home phone-0779',\n",
      "       u'VAR_0237=ct', u'VAR_0342=au', u'VAR_0191', u'VAR_0342=fu',\n",
      "       u'VAR_0192', u'VAR_0138', u'VAR_0130', u'VAR_0283=s', u'VAR_0106',\n",
      "       u'VAR_0114', u'VAR_0098', u'VAR_0237=mi', u'VAR_0325=f', u'VAR_0193',\n",
      "       u'VAR_0194', u'VAR_0107', u'VAR_0195', u'VAR_0342=cf', u'VAR_0180',\n",
      "       u'VAR_0099', u'VAR_0181', u'VAR_0342=eu', u'VAR_0182', u'VAR_0115',\n",
      "       u'VAR_0139', u'VAR_0342=bf', u'VAR_0342=aa', u'VAR_0305=h',\n",
      "       u'VAR_0274=de'],\n",
      "      dtype='object')\n",
      "Index([u'VAR_0179_year', u'VAR_0005=s', u'VAR_0214=fsi-0005-1',\n",
      "       u'VAR_0214=hre-home phone-0621',\n",
      "       u'VAR_0214=hre-social security number-1289',\n",
      "       u'VAR_0214=hre-social security number-1373',\n",
      "       u'VAR_0214=hre-social security number-1397',\n",
      "       u'VAR_0214=hre-social security number-15335',\n",
      "       u'VAR_0214=hre-social security number-1747',\n",
      "       u'VAR_0214=hre-social security number-1855',\n",
      "       u'VAR_0214=hre-social security number-18823',\n",
      "       u'VAR_0214=hre-social security number-2857', u'VAR_0237=al',\n",
      "       u'VAR_0274=rn', u'VAR_0342=ua', u'VAR_0354=u', u'VAR_0283=u',\n",
      "       u'VAR_0342=af', u'VAR_0214=hre-social security number-10143',\n",
      "       u'VAR_0342=fu', u'VAR_0192', u'VAR_0214=hre-home phone-0779',\n",
      "       u'VAR_0191', u'VAR_0237=mi', u'VAR_0283=s', u'VAR_0194', u'VAR_0098',\n",
      "       u'VAR_0106', u'VAR_0193', u'VAR_0130', u'VAR_0325=f', u'VAR_0138',\n",
      "       u'VAR_0114', u'VAR_0195', u'VAR_0237=ct', u'VAR_0237=co',\n",
      "       u'VAR_0342=aa', u'VAR_0107', u'VAR_0342=au', u'VAR_0342=cf',\n",
      "       u'VAR_0274=pr', u'VAR_0274=ri', u'VAR_0466=i', u'VAR_0182',\n",
      "       u'VAR_0342=be', u'VAR_0342=eu', u'VAR_0180', u'VAR_0181',\n",
      "       u'VAR_0342=cu', u'VAR_0342=bf'],\n",
      "      dtype='object')\n",
      "Index([u'VAR_0179_year', u'VAR_0214=hre-social security number-1373',\n",
      "       u'VAR_0214=hre-social security number-1397',\n",
      "       u'VAR_0214=hre-social security number-15335',\n",
      "       u'VAR_0214=hre-social security number-1747',\n",
      "       u'VAR_0214=hre-social security number-1855',\n",
      "       u'VAR_0214=hre-social security number-2857', u'VAR_0237=al',\n",
      "       u'VAR_0342=af', u'VAR_0342=ua', u'VAR_0354=u', u'VAR_0005=s',\n",
      "       u'VAR_0237=mi', u'VAR_0214=hre-social security number-1289',\n",
      "       u'VAR_0283=u', u'VAR_0274=rn', u'VAR_0214=fsi-0005-1',\n",
      "       u'VAR_0214=hre-social security number-10143',\n",
      "       u'VAR_0214=hre-social security number-18823',\n",
      "       u'VAR_0214=hre-home phone-0621', u'VAR_0214=hre-home phone-0779',\n",
      "       u'VAR_0191', u'VAR_0342=fu', u'VAR_0192', u'VAR_0283=s', u'VAR_0114',\n",
      "       u'VAR_0194', u'VAR_0193', u'VAR_0237=co', u'VAR_0106', u'VAR_0138',\n",
      "       u'VAR_0130', u'VAR_0098', u'VAR_0107', u'VAR_0274=pr', u'VAR_0195',\n",
      "       u'VAR_0342=bu', u'VAR_0325=f', u'VAR_0237=ct', u'VAR_0342=aa',\n",
      "       u'VAR_0274=de', u'VAR_0342=au', u'VAR_0139', u'VAR_0237=wv',\n",
      "       u'VAR_0342=cf', u'VAR_0180', u'VAR_0342=bf', u'VAR_0181', u'VAR_0115',\n",
      "       u'VAR_0305=s'],\n",
      "      dtype='object')\n",
      "Index([u'VAR_0179_year', u'VAR_0005=s', u'VAR_0214=fsi-0005-1',\n",
      "       u'VAR_0214=hre-social security number-1289',\n",
      "       u'VAR_0214=hre-social security number-1397',\n",
      "       u'VAR_0214=hre-social security number-15335',\n",
      "       u'VAR_0214=hre-social security number-1855',\n",
      "       u'VAR_0214=hre-social security number-18823',\n",
      "       u'VAR_0214=hre-social security number-2857', u'VAR_0274=rn',\n",
      "       u'VAR_0283=u', u'VAR_0342=ua', u'VAR_0354=u',\n",
      "       u'VAR_0214=hre-social security number-1373', u'VAR_0237=al',\n",
      "       u'VAR_0342=af', u'VAR_0214=hre-social security number-1747',\n",
      "       u'VAR_0214=hre-social security number-10143',\n",
      "       u'VAR_0214=hre-home phone-0621', u'VAR_0214=hre-home phone-0779',\n",
      "       u'VAR_0342=fu', u'VAR_0191', u'VAR_0237=mi', u'VAR_0192', u'VAR_0283=s',\n",
      "       u'VAR_0193', u'VAR_0098', u'VAR_0106', u'VAR_0194', u'VAR_0107',\n",
      "       u'VAR_0138', u'VAR_0130', u'VAR_0114', u'VAR_0325=f', u'VAR_0342=eu',\n",
      "       u'VAR_0237=co', u'VAR_0237=ct', u'VAR_0342=bf', u'VAR_0182',\n",
      "       u'VAR_0180', u'VAR_0342=cf', u'VAR_0325=u', u'VAR_0195', u'VAR_0466=i',\n",
      "       u'VAR_0181', u'VAR_0305=s', u'VAR_0342=aa', u'VAR_0274=de',\n",
      "       u'VAR_0342=au', u'VAR_0099'],\n",
      "      dtype='object')\n"
     ]
    }
   ],
   "source": [
    "for classifier in classifiers:\n",
    "    hundred_most_important_features = np.argpartition(classifier.feature_importances_, range(50))[:50]\n",
    "    print df.columns[hundred_most_important_features]"
   ]
  }
 ],
 "metadata": {
  "kernelspec": {
   "display_name": "Python 2",
   "language": "python",
   "name": "python2"
  },
  "language_info": {
   "codemirror_mode": {
    "name": "ipython",
    "version": 2
   },
   "file_extension": ".py",
   "mimetype": "text/x-python",
   "name": "python",
   "nbconvert_exporter": "python",
   "pygments_lexer": "ipython2",
   "version": "2.7.10"
  }
 },
 "nbformat": 4,
 "nbformat_minor": 0
}
